{
 "cells": [
  {
   "cell_type": "markdown",
   "metadata": {},
   "source": [
    "\n",
    "\n",
    "## Taxi Accident Probability Analysis"
   ]
  },
  {
   "cell_type": "markdown",
   "metadata": {},
   "source": [
    "The goal of this project is to review key concepts of probability using Python, which I have applied throughout the course, and to analyze real data in order to draw informed conclusions.\n",
    "\n",
    "In particular, this project is divided into two parts. The first part focuses on introducing the case study, while the second part involves analysis of a real dataset related to the MIP taxi accident.\n",
    "\n",
    "\n",
    "![orange-divider](https://user-images.githubusercontent.com/7065401/92672455-187a5f80-f2ef-11ea-890c-40be9474f7b7.png)"
   ]
  },
  {
   "cell_type": "markdown",
   "metadata": {},
   "source": [
    "## Part 1\n",
    "\n",
    "**Study Case**\n",
    "\n",
    "In a city with one hundred taxis, 1 is `blue` and 99 are `green`.\n",
    "\n",
    "A witness observes a hit-and-run by a taxi at night and recalls that the taxi was blue, so the police arrest the blue taxi driver who was on duty that night. \n",
    "\n",
    "The driver proclaims his innocence and hires you to defend him in court. You hire a scientist to test the witness' ability to distinguish blue and green taxis under conditions similar to the night of accident."
   ]
  },
  {
   "cell_type": "markdown",
   "metadata": {},
   "source": [
    "The data suggests that the witness sees blue cars as blue 99% of the time and green cars as blue 2% of the time."
   ]
  },
  {
   "cell_type": "markdown",
   "metadata": {},
   "source": [
    "---\n",
    "**A)** What type of probability will you calculate to defend him?\n",
    "\n",
    "> **Quick reminder**: You know that the witness recall the taxi was blue. You will try to make the case that this is likely to be a case of random mis-identification."
   ]
  },
  {
   "cell_type": "markdown",
   "metadata": {},
   "source": [
    "### **P(the car is blue|the witness sees blue).**"
   ]
  },
  {
   "cell_type": "markdown",
   "metadata": {},
   "source": [
    "---\n",
    "**B)** Using the following events:\n",
    "\n",
    "$W_b$ = \"witness sees a blue taxi\" \n",
    "\n",
    "$W_g$ = \"witness sees a green car\"\n",
    "\n",
    "$T_b$ = \"taxi is blue\" \n",
    "\n",
    "$T_g$ = \"taxi is green\"\n",
    "\n",
    "How could you use that evetns to calculate the probability you mentioned?"
   ]
  },
  {
   "cell_type": "markdown",
   "metadata": {},
   "source": [
    "\n",
    "\n",
    "### **P(the car is blue|the witness sees blue)=$P(T_b|W_b)=\\dfrac{P(W_b|T_b)P(T_b)}{P(W_b)}$**"
   ]
  },
  {
   "cell_type": "markdown",
   "metadata": {},
   "source": [
    "---\n",
    "**C)** Calculate $P(W_b|T_b)$ and $P(T_b)$"
   ]
  },
  {
   "cell_type": "markdown",
   "metadata": {},
   "source": [
    "$P(T_b) = 0.01$\n",
    "\n",
    "$P(T_g) = 0.99$.\n",
    "\n",
    "$P(W_b|T_b) = 0.99$ \n",
    "\n",
    "$P(W_b|T_g) = 0.02$."
   ]
  },
  {
   "cell_type": "markdown",
   "metadata": {},
   "source": [
    "---\n",
    "**D)** Estimate $P(W_b)$ using your previous answer.\n",
    "\n",
    "> Remember that we compute $P(W_b)$ using the _Law of Total Probability_."
   ]
  },
  {
   "cell_type": "markdown",
   "metadata": {},
   "source": [
    "### **$P(W_b) = P(W_b|T_b)P(T_b) + P(W_b|T_g)P(T_g) = 0.99 \\times 0.01 + 0.02 \\times 0.99 = 0.99 \\times 0.03.$**\n"
   ]
  },
  {
   "cell_type": "markdown",
   "metadata": {},
   "source": [
    "---\n",
    "**E)** Now, what is the result of $P(T_b|W_b)$?"
   ]
  },
  {
   "cell_type": "markdown",
   "metadata": {},
   "source": [
    "### $P(T_b|W_b)$= $\\dfrac{1}{3}$"
   ]
  },
  {
   "cell_type": "markdown",
   "metadata": {},
   "source": [
    "---\n",
    "**F)** Verdict time. Is the car more likely to be blue or green?"
   ]
  },
  {
   "cell_type": "markdown",
   "metadata": {},
   "source": [
    "**The probability that the blue taxi seen by the witness was actually blue is only 1/3, which indicates reasonable doubt about the accuracy of the witness's identification. This means that there is a 2/3 chance that the taxi involved in the accident was actually green.**\n",
    " \n",
    "\n"
   ]
  },
  {
   "cell_type": "markdown",
   "metadata": {},
   "source": [
    "![orange-divider](https://user-images.githubusercontent.com/7065401/92672455-187a5f80-f2ef-11ea-890c-40be9474f7b7.png)\n",
    "\n",
    "## Part 2\n",
    "\n",
    "In this section you'll use taxi trips data.\n",
    "\n",
    "The trip records include data about pick-up and drop-off dates/times, pick-up and drop-off locations, trip distances, itemized fares, rate types, payment types, and driver-reported passenger counts."
   ]
  },
  {
   "cell_type": "code",
   "execution_count": 1,
   "metadata": {},
   "outputs": [],
   "source": [
    "import pandas as pd"
   ]
  },
  {
   "cell_type": "code",
   "execution_count": 2,
   "metadata": {
    "scrolled": true
   },
   "outputs": [
    {
     "data": {
      "text/html": [
       "<div>\n",
       "<style scoped>\n",
       "    .dataframe tbody tr th:only-of-type {\n",
       "        vertical-align: middle;\n",
       "    }\n",
       "\n",
       "    .dataframe tbody tr th {\n",
       "        vertical-align: top;\n",
       "    }\n",
       "\n",
       "    .dataframe thead th {\n",
       "        text-align: right;\n",
       "    }\n",
       "</style>\n",
       "<table border=\"1\" class=\"dataframe\">\n",
       "  <thead>\n",
       "    <tr style=\"text-align: right;\">\n",
       "      <th></th>\n",
       "      <th>taxi_id</th>\n",
       "      <th>trip_start_timestamp</th>\n",
       "      <th>trip_end_timestamp</th>\n",
       "      <th>trip_seconds</th>\n",
       "      <th>trip_miles</th>\n",
       "      <th>pickup_census_tract</th>\n",
       "      <th>dropoff_census_tract</th>\n",
       "      <th>pickup_community_area</th>\n",
       "      <th>dropoff_community_area</th>\n",
       "      <th>fare</th>\n",
       "      <th>tips</th>\n",
       "      <th>tolls</th>\n",
       "      <th>extras</th>\n",
       "      <th>trip_total</th>\n",
       "      <th>payment_type</th>\n",
       "      <th>company</th>\n",
       "      <th>pickup_latitude</th>\n",
       "      <th>pickup_longitude</th>\n",
       "      <th>dropoff_latitude</th>\n",
       "      <th>dropoff_longitude</th>\n",
       "    </tr>\n",
       "  </thead>\n",
       "  <tbody>\n",
       "    <tr>\n",
       "      <th>0</th>\n",
       "      <td>5240.0</td>\n",
       "      <td>2016-12-15 23:45:00</td>\n",
       "      <td>2016-12-16 00:00:00</td>\n",
       "      <td>900.0</td>\n",
       "      <td>2.5</td>\n",
       "      <td>NaN</td>\n",
       "      <td>307.0</td>\n",
       "      <td>8.0</td>\n",
       "      <td>32.0</td>\n",
       "      <td>10.75</td>\n",
       "      <td>2.45</td>\n",
       "      <td>0.0</td>\n",
       "      <td>1.0</td>\n",
       "      <td>14.70</td>\n",
       "      <td>Credit Card</td>\n",
       "      <td>NaN</td>\n",
       "      <td>754.0</td>\n",
       "      <td>410.0</td>\n",
       "      <td>64.0</td>\n",
       "      <td>231.0</td>\n",
       "    </tr>\n",
       "    <tr>\n",
       "      <th>1</th>\n",
       "      <td>1215.0</td>\n",
       "      <td>2016-12-12 07:15:00</td>\n",
       "      <td>2016-12-12 07:15:00</td>\n",
       "      <td>240.0</td>\n",
       "      <td>0.4</td>\n",
       "      <td>NaN</td>\n",
       "      <td>40.0</td>\n",
       "      <td>28.0</td>\n",
       "      <td>28.0</td>\n",
       "      <td>5.00</td>\n",
       "      <td>3.00</td>\n",
       "      <td>0.0</td>\n",
       "      <td>1.0</td>\n",
       "      <td>9.50</td>\n",
       "      <td>Credit Card</td>\n",
       "      <td>NaN</td>\n",
       "      <td>395.0</td>\n",
       "      <td>408.0</td>\n",
       "      <td>395.0</td>\n",
       "      <td>408.0</td>\n",
       "    </tr>\n",
       "    <tr>\n",
       "      <th>2</th>\n",
       "      <td>3673.0</td>\n",
       "      <td>2016-12-16 16:30:00</td>\n",
       "      <td>2016-12-16 17:00:00</td>\n",
       "      <td>2400.0</td>\n",
       "      <td>10.7</td>\n",
       "      <td>NaN</td>\n",
       "      <td>NaN</td>\n",
       "      <td>32.0</td>\n",
       "      <td>NaN</td>\n",
       "      <td>31.00</td>\n",
       "      <td>0.00</td>\n",
       "      <td>0.0</td>\n",
       "      <td>0.0</td>\n",
       "      <td>31.00</td>\n",
       "      <td>Cash</td>\n",
       "      <td>NaN</td>\n",
       "      <td>385.0</td>\n",
       "      <td>478.0</td>\n",
       "      <td>NaN</td>\n",
       "      <td>NaN</td>\n",
       "    </tr>\n",
       "    <tr>\n",
       "      <th>3</th>\n",
       "      <td>5400.0</td>\n",
       "      <td>2016-12-16 08:45:00</td>\n",
       "      <td>2016-12-16 09:00:00</td>\n",
       "      <td>300.0</td>\n",
       "      <td>0.0</td>\n",
       "      <td>NaN</td>\n",
       "      <td>787.0</td>\n",
       "      <td>8.0</td>\n",
       "      <td>8.0</td>\n",
       "      <td>5.25</td>\n",
       "      <td>2.00</td>\n",
       "      <td>0.0</td>\n",
       "      <td>0.0</td>\n",
       "      <td>7.25</td>\n",
       "      <td>Credit Card</td>\n",
       "      <td>101.0</td>\n",
       "      <td>688.0</td>\n",
       "      <td>206.0</td>\n",
       "      <td>161.0</td>\n",
       "      <td>649.0</td>\n",
       "    </tr>\n",
       "    <tr>\n",
       "      <th>4</th>\n",
       "      <td>1257.0</td>\n",
       "      <td>2016-12-3 18:45:00</td>\n",
       "      <td>2016-12-3 18:45:00</td>\n",
       "      <td>360.0</td>\n",
       "      <td>0.3</td>\n",
       "      <td>NaN</td>\n",
       "      <td>534.0</td>\n",
       "      <td>7.0</td>\n",
       "      <td>8.0</td>\n",
       "      <td>5.00</td>\n",
       "      <td>0.00</td>\n",
       "      <td>0.0</td>\n",
       "      <td>0.0</td>\n",
       "      <td>5.00</td>\n",
       "      <td>Cash</td>\n",
       "      <td>3.0</td>\n",
       "      <td>618.0</td>\n",
       "      <td>407.0</td>\n",
       "      <td>454.0</td>\n",
       "      <td>453.0</td>\n",
       "    </tr>\n",
       "  </tbody>\n",
       "</table>\n",
       "</div>"
      ],
      "text/plain": [
       "   taxi_id trip_start_timestamp   trip_end_timestamp  trip_seconds  \\\n",
       "0   5240.0  2016-12-15 23:45:00  2016-12-16 00:00:00         900.0   \n",
       "1   1215.0  2016-12-12 07:15:00  2016-12-12 07:15:00         240.0   \n",
       "2   3673.0  2016-12-16 16:30:00  2016-12-16 17:00:00        2400.0   \n",
       "3   5400.0  2016-12-16 08:45:00  2016-12-16 09:00:00         300.0   \n",
       "4   1257.0   2016-12-3 18:45:00   2016-12-3 18:45:00         360.0   \n",
       "\n",
       "   trip_miles  pickup_census_tract  dropoff_census_tract  \\\n",
       "0         2.5                  NaN                 307.0   \n",
       "1         0.4                  NaN                  40.0   \n",
       "2        10.7                  NaN                   NaN   \n",
       "3         0.0                  NaN                 787.0   \n",
       "4         0.3                  NaN                 534.0   \n",
       "\n",
       "   pickup_community_area  dropoff_community_area   fare  tips  tolls  extras  \\\n",
       "0                    8.0                    32.0  10.75  2.45    0.0     1.0   \n",
       "1                   28.0                    28.0   5.00  3.00    0.0     1.0   \n",
       "2                   32.0                     NaN  31.00  0.00    0.0     0.0   \n",
       "3                    8.0                     8.0   5.25  2.00    0.0     0.0   \n",
       "4                    7.0                     8.0   5.00  0.00    0.0     0.0   \n",
       "\n",
       "   trip_total payment_type  company  pickup_latitude  pickup_longitude  \\\n",
       "0       14.70  Credit Card      NaN            754.0             410.0   \n",
       "1        9.50  Credit Card      NaN            395.0             408.0   \n",
       "2       31.00         Cash      NaN            385.0             478.0   \n",
       "3        7.25  Credit Card    101.0            688.0             206.0   \n",
       "4        5.00         Cash      3.0            618.0             407.0   \n",
       "\n",
       "   dropoff_latitude  dropoff_longitude  \n",
       "0              64.0              231.0  \n",
       "1             395.0              408.0  \n",
       "2               NaN                NaN  \n",
       "3             161.0              649.0  \n",
       "4             454.0              453.0  "
      ]
     },
     "execution_count": 2,
     "metadata": {},
     "output_type": "execute_result"
    }
   ],
   "source": [
    "taxi_df = pd.read_csv('taxi.csv')\n",
    "taxi_df.head()"
   ]
  },
  {
   "cell_type": "code",
   "execution_count": 3,
   "metadata": {},
   "outputs": [
    {
     "data": {
      "text/plain": [
       "(1245712, 20)"
      ]
     },
     "execution_count": 3,
     "metadata": {},
     "output_type": "execute_result"
    }
   ],
   "source": [
    "taxi_df.shape"
   ]
  },
  {
   "cell_type": "markdown",
   "metadata": {},
   "source": [
    "---\n",
    "**A)** Drop the following columns: \n",
    "\n",
    "```\n",
    "['pickup_census_tract','dropoff_census_tract','pickup_community_area','dropoff_community_area','tolls','pickup_latitude','pickup_longitude','dropoff_latitude','dropoff_longitude']\n",
    "```\n"
   ]
  },
  {
   "cell_type": "code",
   "execution_count": 4,
   "metadata": {},
   "outputs": [
    {
     "data": {
      "text/html": [
       "<div>\n",
       "<style scoped>\n",
       "    .dataframe tbody tr th:only-of-type {\n",
       "        vertical-align: middle;\n",
       "    }\n",
       "\n",
       "    .dataframe tbody tr th {\n",
       "        vertical-align: top;\n",
       "    }\n",
       "\n",
       "    .dataframe thead th {\n",
       "        text-align: right;\n",
       "    }\n",
       "</style>\n",
       "<table border=\"1\" class=\"dataframe\">\n",
       "  <thead>\n",
       "    <tr style=\"text-align: right;\">\n",
       "      <th></th>\n",
       "      <th>taxi_id</th>\n",
       "      <th>trip_start_timestamp</th>\n",
       "      <th>trip_end_timestamp</th>\n",
       "      <th>trip_seconds</th>\n",
       "      <th>trip_miles</th>\n",
       "      <th>fare</th>\n",
       "      <th>tips</th>\n",
       "      <th>extras</th>\n",
       "      <th>trip_total</th>\n",
       "      <th>payment_type</th>\n",
       "      <th>company</th>\n",
       "    </tr>\n",
       "  </thead>\n",
       "  <tbody>\n",
       "    <tr>\n",
       "      <th>0</th>\n",
       "      <td>5240.0</td>\n",
       "      <td>2016-12-15 23:45:00</td>\n",
       "      <td>2016-12-16 00:00:00</td>\n",
       "      <td>900.0</td>\n",
       "      <td>2.5</td>\n",
       "      <td>10.75</td>\n",
       "      <td>2.45</td>\n",
       "      <td>1.0</td>\n",
       "      <td>14.70</td>\n",
       "      <td>Credit Card</td>\n",
       "      <td>NaN</td>\n",
       "    </tr>\n",
       "    <tr>\n",
       "      <th>1</th>\n",
       "      <td>1215.0</td>\n",
       "      <td>2016-12-12 07:15:00</td>\n",
       "      <td>2016-12-12 07:15:00</td>\n",
       "      <td>240.0</td>\n",
       "      <td>0.4</td>\n",
       "      <td>5.00</td>\n",
       "      <td>3.00</td>\n",
       "      <td>1.0</td>\n",
       "      <td>9.50</td>\n",
       "      <td>Credit Card</td>\n",
       "      <td>NaN</td>\n",
       "    </tr>\n",
       "    <tr>\n",
       "      <th>2</th>\n",
       "      <td>3673.0</td>\n",
       "      <td>2016-12-16 16:30:00</td>\n",
       "      <td>2016-12-16 17:00:00</td>\n",
       "      <td>2400.0</td>\n",
       "      <td>10.7</td>\n",
       "      <td>31.00</td>\n",
       "      <td>0.00</td>\n",
       "      <td>0.0</td>\n",
       "      <td>31.00</td>\n",
       "      <td>Cash</td>\n",
       "      <td>NaN</td>\n",
       "    </tr>\n",
       "    <tr>\n",
       "      <th>3</th>\n",
       "      <td>5400.0</td>\n",
       "      <td>2016-12-16 08:45:00</td>\n",
       "      <td>2016-12-16 09:00:00</td>\n",
       "      <td>300.0</td>\n",
       "      <td>0.0</td>\n",
       "      <td>5.25</td>\n",
       "      <td>2.00</td>\n",
       "      <td>0.0</td>\n",
       "      <td>7.25</td>\n",
       "      <td>Credit Card</td>\n",
       "      <td>101.0</td>\n",
       "    </tr>\n",
       "    <tr>\n",
       "      <th>4</th>\n",
       "      <td>1257.0</td>\n",
       "      <td>2016-12-3 18:45:00</td>\n",
       "      <td>2016-12-3 18:45:00</td>\n",
       "      <td>360.0</td>\n",
       "      <td>0.3</td>\n",
       "      <td>5.00</td>\n",
       "      <td>0.00</td>\n",
       "      <td>0.0</td>\n",
       "      <td>5.00</td>\n",
       "      <td>Cash</td>\n",
       "      <td>3.0</td>\n",
       "    </tr>\n",
       "  </tbody>\n",
       "</table>\n",
       "</div>"
      ],
      "text/plain": [
       "   taxi_id trip_start_timestamp   trip_end_timestamp  trip_seconds  \\\n",
       "0   5240.0  2016-12-15 23:45:00  2016-12-16 00:00:00         900.0   \n",
       "1   1215.0  2016-12-12 07:15:00  2016-12-12 07:15:00         240.0   \n",
       "2   3673.0  2016-12-16 16:30:00  2016-12-16 17:00:00        2400.0   \n",
       "3   5400.0  2016-12-16 08:45:00  2016-12-16 09:00:00         300.0   \n",
       "4   1257.0   2016-12-3 18:45:00   2016-12-3 18:45:00         360.0   \n",
       "\n",
       "   trip_miles   fare  tips  extras  trip_total payment_type  company  \n",
       "0         2.5  10.75  2.45     1.0       14.70  Credit Card      NaN  \n",
       "1         0.4   5.00  3.00     1.0        9.50  Credit Card      NaN  \n",
       "2        10.7  31.00  0.00     0.0       31.00         Cash      NaN  \n",
       "3         0.0   5.25  2.00     0.0        7.25  Credit Card    101.0  \n",
       "4         0.3   5.00  0.00     0.0        5.00         Cash      3.0  "
      ]
     },
     "execution_count": 4,
     "metadata": {},
     "output_type": "execute_result"
    }
   ],
   "source": [
    "data = taxi_df.drop(columns=['pickup_census_tract','dropoff_census_tract','pickup_community_area','dropoff_community_area','tolls','pickup_latitude','pickup_longitude','dropoff_latitude','dropoff_longitude'])\n",
    "data.head()"
   ]
  },
  {
   "cell_type": "markdown",
   "metadata": {},
   "source": [
    "---\n",
    "**B)** Keep just the first 100 rows."
   ]
  },
  {
   "cell_type": "code",
   "execution_count": 5,
   "metadata": {},
   "outputs": [
    {
     "name": "stdout",
     "output_type": "stream",
     "text": [
      "(100, 20)\n"
     ]
    },
    {
     "data": {
      "text/html": [
       "<div>\n",
       "<style scoped>\n",
       "    .dataframe tbody tr th:only-of-type {\n",
       "        vertical-align: middle;\n",
       "    }\n",
       "\n",
       "    .dataframe tbody tr th {\n",
       "        vertical-align: top;\n",
       "    }\n",
       "\n",
       "    .dataframe thead th {\n",
       "        text-align: right;\n",
       "    }\n",
       "</style>\n",
       "<table border=\"1\" class=\"dataframe\">\n",
       "  <thead>\n",
       "    <tr style=\"text-align: right;\">\n",
       "      <th></th>\n",
       "      <th>taxi_id</th>\n",
       "      <th>trip_start_timestamp</th>\n",
       "      <th>trip_end_timestamp</th>\n",
       "      <th>trip_seconds</th>\n",
       "      <th>trip_miles</th>\n",
       "      <th>pickup_census_tract</th>\n",
       "      <th>dropoff_census_tract</th>\n",
       "      <th>pickup_community_area</th>\n",
       "      <th>dropoff_community_area</th>\n",
       "      <th>fare</th>\n",
       "      <th>tips</th>\n",
       "      <th>tolls</th>\n",
       "      <th>extras</th>\n",
       "      <th>trip_total</th>\n",
       "      <th>payment_type</th>\n",
       "      <th>company</th>\n",
       "      <th>pickup_latitude</th>\n",
       "      <th>pickup_longitude</th>\n",
       "      <th>dropoff_latitude</th>\n",
       "      <th>dropoff_longitude</th>\n",
       "    </tr>\n",
       "  </thead>\n",
       "  <tbody>\n",
       "    <tr>\n",
       "      <th>0</th>\n",
       "      <td>5240.0</td>\n",
       "      <td>2016-12-15 23:45:00</td>\n",
       "      <td>2016-12-16 00:00:00</td>\n",
       "      <td>900.0</td>\n",
       "      <td>2.5</td>\n",
       "      <td>NaN</td>\n",
       "      <td>307.0</td>\n",
       "      <td>8.0</td>\n",
       "      <td>32.0</td>\n",
       "      <td>10.75</td>\n",
       "      <td>2.45</td>\n",
       "      <td>0.0</td>\n",
       "      <td>1.0</td>\n",
       "      <td>14.70</td>\n",
       "      <td>Credit Card</td>\n",
       "      <td>NaN</td>\n",
       "      <td>754.0</td>\n",
       "      <td>410.0</td>\n",
       "      <td>64.0</td>\n",
       "      <td>231.0</td>\n",
       "    </tr>\n",
       "    <tr>\n",
       "      <th>1</th>\n",
       "      <td>1215.0</td>\n",
       "      <td>2016-12-12 07:15:00</td>\n",
       "      <td>2016-12-12 07:15:00</td>\n",
       "      <td>240.0</td>\n",
       "      <td>0.4</td>\n",
       "      <td>NaN</td>\n",
       "      <td>40.0</td>\n",
       "      <td>28.0</td>\n",
       "      <td>28.0</td>\n",
       "      <td>5.00</td>\n",
       "      <td>3.00</td>\n",
       "      <td>0.0</td>\n",
       "      <td>1.0</td>\n",
       "      <td>9.50</td>\n",
       "      <td>Credit Card</td>\n",
       "      <td>NaN</td>\n",
       "      <td>395.0</td>\n",
       "      <td>408.0</td>\n",
       "      <td>395.0</td>\n",
       "      <td>408.0</td>\n",
       "    </tr>\n",
       "    <tr>\n",
       "      <th>2</th>\n",
       "      <td>3673.0</td>\n",
       "      <td>2016-12-16 16:30:00</td>\n",
       "      <td>2016-12-16 17:00:00</td>\n",
       "      <td>2400.0</td>\n",
       "      <td>10.7</td>\n",
       "      <td>NaN</td>\n",
       "      <td>NaN</td>\n",
       "      <td>32.0</td>\n",
       "      <td>NaN</td>\n",
       "      <td>31.00</td>\n",
       "      <td>0.00</td>\n",
       "      <td>0.0</td>\n",
       "      <td>0.0</td>\n",
       "      <td>31.00</td>\n",
       "      <td>Cash</td>\n",
       "      <td>NaN</td>\n",
       "      <td>385.0</td>\n",
       "      <td>478.0</td>\n",
       "      <td>NaN</td>\n",
       "      <td>NaN</td>\n",
       "    </tr>\n",
       "    <tr>\n",
       "      <th>3</th>\n",
       "      <td>5400.0</td>\n",
       "      <td>2016-12-16 08:45:00</td>\n",
       "      <td>2016-12-16 09:00:00</td>\n",
       "      <td>300.0</td>\n",
       "      <td>0.0</td>\n",
       "      <td>NaN</td>\n",
       "      <td>787.0</td>\n",
       "      <td>8.0</td>\n",
       "      <td>8.0</td>\n",
       "      <td>5.25</td>\n",
       "      <td>2.00</td>\n",
       "      <td>0.0</td>\n",
       "      <td>0.0</td>\n",
       "      <td>7.25</td>\n",
       "      <td>Credit Card</td>\n",
       "      <td>101.0</td>\n",
       "      <td>688.0</td>\n",
       "      <td>206.0</td>\n",
       "      <td>161.0</td>\n",
       "      <td>649.0</td>\n",
       "    </tr>\n",
       "    <tr>\n",
       "      <th>4</th>\n",
       "      <td>1257.0</td>\n",
       "      <td>2016-12-3 18:45:00</td>\n",
       "      <td>2016-12-3 18:45:00</td>\n",
       "      <td>360.0</td>\n",
       "      <td>0.3</td>\n",
       "      <td>NaN</td>\n",
       "      <td>534.0</td>\n",
       "      <td>7.0</td>\n",
       "      <td>8.0</td>\n",
       "      <td>5.00</td>\n",
       "      <td>0.00</td>\n",
       "      <td>0.0</td>\n",
       "      <td>0.0</td>\n",
       "      <td>5.00</td>\n",
       "      <td>Cash</td>\n",
       "      <td>3.0</td>\n",
       "      <td>618.0</td>\n",
       "      <td>407.0</td>\n",
       "      <td>454.0</td>\n",
       "      <td>453.0</td>\n",
       "    </tr>\n",
       "  </tbody>\n",
       "</table>\n",
       "</div>"
      ],
      "text/plain": [
       "   taxi_id trip_start_timestamp   trip_end_timestamp  trip_seconds  \\\n",
       "0   5240.0  2016-12-15 23:45:00  2016-12-16 00:00:00         900.0   \n",
       "1   1215.0  2016-12-12 07:15:00  2016-12-12 07:15:00         240.0   \n",
       "2   3673.0  2016-12-16 16:30:00  2016-12-16 17:00:00        2400.0   \n",
       "3   5400.0  2016-12-16 08:45:00  2016-12-16 09:00:00         300.0   \n",
       "4   1257.0   2016-12-3 18:45:00   2016-12-3 18:45:00         360.0   \n",
       "\n",
       "   trip_miles  pickup_census_tract  dropoff_census_tract  \\\n",
       "0         2.5                  NaN                 307.0   \n",
       "1         0.4                  NaN                  40.0   \n",
       "2        10.7                  NaN                   NaN   \n",
       "3         0.0                  NaN                 787.0   \n",
       "4         0.3                  NaN                 534.0   \n",
       "\n",
       "   pickup_community_area  dropoff_community_area   fare  tips  tolls  extras  \\\n",
       "0                    8.0                    32.0  10.75  2.45    0.0     1.0   \n",
       "1                   28.0                    28.0   5.00  3.00    0.0     1.0   \n",
       "2                   32.0                     NaN  31.00  0.00    0.0     0.0   \n",
       "3                    8.0                     8.0   5.25  2.00    0.0     0.0   \n",
       "4                    7.0                     8.0   5.00  0.00    0.0     0.0   \n",
       "\n",
       "   trip_total payment_type  company  pickup_latitude  pickup_longitude  \\\n",
       "0       14.70  Credit Card      NaN            754.0             410.0   \n",
       "1        9.50  Credit Card      NaN            395.0             408.0   \n",
       "2       31.00         Cash      NaN            385.0             478.0   \n",
       "3        7.25  Credit Card    101.0            688.0             206.0   \n",
       "4        5.00         Cash      3.0            618.0             407.0   \n",
       "\n",
       "   dropoff_latitude  dropoff_longitude  \n",
       "0              64.0              231.0  \n",
       "1             395.0              408.0  \n",
       "2               NaN                NaN  \n",
       "3             161.0              649.0  \n",
       "4             454.0              453.0  "
      ]
     },
     "execution_count": 5,
     "metadata": {},
     "output_type": "execute_result"
    }
   ],
   "source": [
    "data = taxi_df.iloc[:100,:]\n",
    "print(data.shape)\n",
    "\n",
    "data.head()"
   ]
  },
  {
   "cell_type": "markdown",
   "metadata": {},
   "source": [
    "---\n",
    "**C)** We don't have information about taxi colors, but we know green taxis don't accept **cash** if the fare is higher than 40.\n",
    "\n",
    "We know a passenger spent more than 40$ and paid by cash, so that trip belongs to the blue taxi, **can you get that trip record?**"
   ]
  },
  {
   "cell_type": "code",
   "execution_count": 6,
   "metadata": {},
   "outputs": [
    {
     "data": {
      "text/html": [
       "<div>\n",
       "<style scoped>\n",
       "    .dataframe tbody tr th:only-of-type {\n",
       "        vertical-align: middle;\n",
       "    }\n",
       "\n",
       "    .dataframe tbody tr th {\n",
       "        vertical-align: top;\n",
       "    }\n",
       "\n",
       "    .dataframe thead th {\n",
       "        text-align: right;\n",
       "    }\n",
       "</style>\n",
       "<table border=\"1\" class=\"dataframe\">\n",
       "  <thead>\n",
       "    <tr style=\"text-align: right;\">\n",
       "      <th></th>\n",
       "      <th>taxi_id</th>\n",
       "      <th>trip_start_timestamp</th>\n",
       "      <th>trip_end_timestamp</th>\n",
       "      <th>trip_seconds</th>\n",
       "      <th>trip_miles</th>\n",
       "      <th>pickup_census_tract</th>\n",
       "      <th>dropoff_census_tract</th>\n",
       "      <th>pickup_community_area</th>\n",
       "      <th>dropoff_community_area</th>\n",
       "      <th>fare</th>\n",
       "      <th>tips</th>\n",
       "      <th>tolls</th>\n",
       "      <th>extras</th>\n",
       "      <th>trip_total</th>\n",
       "      <th>payment_type</th>\n",
       "      <th>company</th>\n",
       "      <th>pickup_latitude</th>\n",
       "      <th>pickup_longitude</th>\n",
       "      <th>dropoff_latitude</th>\n",
       "      <th>dropoff_longitude</th>\n",
       "    </tr>\n",
       "  </thead>\n",
       "  <tbody>\n",
       "    <tr>\n",
       "      <th>28</th>\n",
       "      <td>1369.0</td>\n",
       "      <td>2016-12-20 15:15:00</td>\n",
       "      <td>2016-12-20 15:45:00</td>\n",
       "      <td>2160.0</td>\n",
       "      <td>17.4</td>\n",
       "      <td>NaN</td>\n",
       "      <td>313.0</td>\n",
       "      <td>32.0</td>\n",
       "      <td>76.0</td>\n",
       "      <td>43.5</td>\n",
       "      <td>0.0</td>\n",
       "      <td>0.0</td>\n",
       "      <td>0.0</td>\n",
       "      <td>43.5</td>\n",
       "      <td>Cash</td>\n",
       "      <td>10.0</td>\n",
       "      <td>18.0</td>\n",
       "      <td>610.0</td>\n",
       "      <td>225.0</td>\n",
       "      <td>6.0</td>\n",
       "    </tr>\n",
       "  </tbody>\n",
       "</table>\n",
       "</div>"
      ],
      "text/plain": [
       "    taxi_id trip_start_timestamp   trip_end_timestamp  trip_seconds  \\\n",
       "28   1369.0  2016-12-20 15:15:00  2016-12-20 15:45:00        2160.0   \n",
       "\n",
       "    trip_miles  pickup_census_tract  dropoff_census_tract  \\\n",
       "28        17.4                  NaN                 313.0   \n",
       "\n",
       "    pickup_community_area  dropoff_community_area  fare  tips  tolls  extras  \\\n",
       "28                   32.0                    76.0  43.5   0.0    0.0     0.0   \n",
       "\n",
       "    trip_total payment_type  company  pickup_latitude  pickup_longitude  \\\n",
       "28        43.5         Cash     10.0             18.0             610.0   \n",
       "\n",
       "    dropoff_latitude  dropoff_longitude  \n",
       "28             225.0                6.0  "
      ]
     },
     "execution_count": 6,
     "metadata": {},
     "output_type": "execute_result"
    }
   ],
   "source": [
    "blue_taxi = data[(data[\"payment_type\"] == \"Cash\") & (data[\"fare\"]>40)]\n",
    "blue_taxi"
   ]
  },
  {
   "cell_type": "markdown",
   "metadata": {},
   "source": [
    "---\n",
    "**D)** What is the probability to have taken the blue taxi if the trip lasted more than 500 seconds?"
   ]
  },
  {
   "cell_type": "markdown",
   "metadata": {},
   "source": [
    "**We can apply the conditional probability formula:**\n",
    "\n",
    "$P(T_b|S)=\\dfrac{P(S\\cap T_b)}{P(S)}$."
   ]
  },
  {
   "cell_type": "code",
   "execution_count": 8,
   "metadata": {},
   "outputs": [
    {
     "data": {
      "text/plain": [
       "0.01818181818181818"
      ]
     },
     "execution_count": 8,
     "metadata": {},
     "output_type": "execute_result"
    }
   ],
   "source": [
    "# Filter the data to get trips that lasted more than 500 seconds and are related to the blue taxi (taxi 1369)\n",
    "blue_taxi_trips_over_500 = data[(data[\"trip_seconds\"]>500) & (data[\"taxi_id\"] == 1369.0)]\n",
    "\n",
    "# Filter the data to get all trips that lasted more than 500 seconds\n",
    "trips_over_500_seconds = data[(data[\"trip_seconds\"]>500)]\n",
    "\n",
    "# Calculate the probability\n",
    "prob_blue_taxi_over_500 = blue_taxi_trips_over_500.shape[0]/trips_over_500_seconds.shape[0]\n",
    "prob_blue_taxi_over_500"
   ]
  },
  {
   "cell_type": "markdown",
   "metadata": {},
   "source": [
    "---\n",
    "**E)** What is the probability to have taken the green taxi if the trip lasted more than 500 seconds?"
   ]
  },
  {
   "cell_type": "markdown",
   "metadata": {},
   "source": [
    " **We can apply the conditional probability formula:**\n",
    "\n",
    "$P(T_g|S)=\\dfrac{P(S\\cap T_g)}{P(S)}$."
   ]
  },
  {
   "cell_type": "code",
   "execution_count": 10,
   "metadata": {},
   "outputs": [
    {
     "data": {
      "text/plain": [
       "0.9818181818181818"
      ]
     },
     "execution_count": 10,
     "metadata": {},
     "output_type": "execute_result"
    }
   ],
   "source": [
    "# Filter the data to get trips that lasted more than 500 seconds and are related to green taxis\n",
    "green_taxi_trips_over_500 = data[(data[\"trip_seconds\"]>500) & (data[\"taxi_id\"] != 1369.0)]\n",
    "\n",
    "# Filter the data to get all trips that lasted more than 500 seconds\n",
    "trips_over_500_seconds = data[(data[\"trip_seconds\"]>500)]\n",
    "\n",
    "# Calculate the probability\n",
    "prob_green_taxi_over_500 = green_taxi_trips_over_500.shape[0]/trips_over_500_seconds.shape[0]\n",
    "prob_green_taxi_over_500"
   ]
  },
  {
   "cell_type": "markdown",
   "metadata": {},
   "source": [
    "**Another way to calculate the probability of having taken the green taxi given that the trip lasted more than 500 seconds is by using the complement of the probability of taking the blue taxi:**\n",
    "\n",
    "$P(T_g|S)=1-P(T_b|S)$.\n"
   ]
  },
  {
   "cell_type": "code",
   "execution_count": 11,
   "metadata": {},
   "outputs": [
    {
     "data": {
      "text/plain": [
       "0.9818181818181818"
      ]
     },
     "execution_count": 11,
     "metadata": {},
     "output_type": "execute_result"
    }
   ],
   "source": [
    "1 - prob_blue_taxi_over_500"
   ]
  },
  {
   "cell_type": "markdown",
   "metadata": {},
   "source": [
    "---\n",
    "**F)** What is the probability to have paid in cash given that you took the green taxi?"
   ]
  },
  {
   "cell_type": "markdown",
   "metadata": {},
   "source": [
    "**We can apply the conditional probability formula:**\n",
    "\n",
    "$P(C|T_g)=\\dfrac{P(C\\cap T_g)}{P(T_g)}$."
   ]
  },
  {
   "cell_type": "code",
   "execution_count": 24,
   "metadata": {},
   "outputs": [
    {
     "data": {
      "text/plain": [
       "0.5353535353535354"
      ]
     },
     "execution_count": 24,
     "metadata": {},
     "output_type": "execute_result"
    }
   ],
   "source": [
    "# Filter data for green taxi trips that were paid in cash\n",
    "green_taxi_cash_trips = data[(data[\"payment_type\"]=='Cash') & (data[\"taxi_id\"] != 1369.0)]\n",
    "\n",
    "# Filter data to get all trips taken in green taxis\n",
    "green_taxi_trips = data[(data[\"taxi_id\"] != 1369.0)]\n",
    "\n",
    "# Calculate the probability\n",
    "prob_cash_green_taxi = green_taxi_cash_trips.shape[0]/green_taxi_trips.shape[0]\n",
    "prob_cash_green_taxi"
   ]
  },
  {
   "cell_type": "markdown",
   "metadata": {},
   "source": [
    "---\n",
    "**G)** For last task, you will need to pick a taxi from this dataset considering the following events:\n",
    "\n",
    "- A={The TAXI chosen have been paying by cash}\n",
    "- B={The TAXI chosen have the trip lasted more than 500 seconds}\n",
    "- C={The TAXI chosen have paid a total trip equal to 40$}\n",
    "\n",
    "Now answer:\n",
    "\n",
    "**G.1)** A and B are mutually exclusive events?\n",
    "\n",
    "**G.2)** A and C are mutually exclusive events?"
   ]
  },
  {
   "cell_type": "code",
   "execution_count": 26,
   "metadata": {},
   "outputs": [
    {
     "data": {
      "text/plain": [
       "(25, 20)"
      ]
     },
     "execution_count": 26,
     "metadata": {},
     "output_type": "execute_result"
    }
   ],
   "source": [
    "data_AB = data[(data[\"payment_type\"] == \"Cash\") & (data[\"trip_seconds\"]>500)]\n",
    "data_AB.shape\n",
    "# not mutually exclusive events"
   ]
  },
  {
   "cell_type": "code",
   "execution_count": 27,
   "metadata": {},
   "outputs": [
    {
     "data": {
      "text/plain": [
       "(0, 20)"
      ]
     },
     "execution_count": 27,
     "metadata": {},
     "output_type": "execute_result"
    }
   ],
   "source": [
    "data_AC = data[(data[\"payment_type\"] == \"Cash\") & (data[\"trip_total\"]==40)]\n",
    "data_AC.shape\n",
    "# yes, mutually exclusive events"
   ]
  },
  {
   "cell_type": "markdown",
   "metadata": {},
   "source": [
    "![orange-divider](https://user-images.githubusercontent.com/7065401/92672455-187a5f80-f2ef-11ea-890c-40be9474f7b7.png)"
   ]
  }
 ],
 "metadata": {
  "kernelspec": {
   "display_name": "Python 3 (ipykernel)",
   "language": "python",
   "name": "python3"
  },
  "language_info": {
   "codemirror_mode": {
    "name": "ipython",
    "version": 3
   },
   "file_extension": ".py",
   "mimetype": "text/x-python",
   "name": "python",
   "nbconvert_exporter": "python",
   "pygments_lexer": "ipython3",
   "version": "3.9.12"
  }
 },
 "nbformat": 4,
 "nbformat_minor": 4
}
